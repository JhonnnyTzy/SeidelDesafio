{
  "nbformat": 4,
  "nbformat_minor": 0,
  "metadata": {
    "colab": {
      "provenance": [],
      "authorship_tag": "ABX9TyN1FnA7QVG4JVuFoy9Tu0YO",
      "include_colab_link": true
    },
    "kernelspec": {
      "name": "python3",
      "display_name": "Python 3"
    },
    "language_info": {
      "name": "python"
    }
  },
  "cells": [
    {
      "cell_type": "markdown",
      "metadata": {
        "id": "view-in-github",
        "colab_type": "text"
      },
      "source": [
        "<a href=\"https://colab.research.google.com/github/JhonnnyTzy/SeidelDesafio/blob/main/Canteras.ipynb\" target=\"_parent\"><img src=\"https://colab.research.google.com/assets/colab-badge.svg\" alt=\"Open In Colab\"/></a>"
      ]
    },
    {
      "cell_type": "code",
      "execution_count": null,
      "metadata": {
        "colab": {
          "base_uri": "https://localhost:8080/"
        },
        "id": "-lOtSEAf3iZx",
        "outputId": "247107a2-70d6-4cb2-ac3f-26b69e64d903"
      },
      "outputs": [
        {
          "output_type": "stream",
          "name": "stdout",
          "text": [
            "Iter         x1         x2         x3     Error x1     Error x2     Error x3\n",
            "   1 9230.000000 6082.000000 4007.000000  9230.000000  6082.000000  4007.000000\n",
            "   2 4965.000000 7038.000000 4881.000000  4265.000000   956.000000   874.000000\n",
            "   3 4177.000000 7161.000000 5072.000000   788.000000   123.000000   191.000000\n",
            "   4 4038.000000 7168.000000 5114.000000   139.000000     7.000000    42.000000\n",
            "   5 4015.000000 7165.000000 5123.000000    23.000000     3.000000     9.000000\n",
            "   6 4012.000000 7163.000000 5125.000000     3.000000     2.000000     2.000000\n",
            "   7 4011.000000 7163.000000 5125.000000     1.000000     0.000000     0.000000\n",
            "   8 4011.000000 7163.000000 5125.000000     0.000000     0.000000     0.000000\n",
            "\n",
            "Convergencia alcanzada en 8 iteraciones.\n",
            "\n",
            "Cantidad de material a transportar desde cada cantera (en metros cúbicos) - Método de Gauss-Seidel:\n",
            "Cantera 1: 4011.00 m³\n",
            "Cantera 2: 7163.00 m³\n",
            "Cantera 3: 5125.00 m³\n"
          ]
        }
      ],
      "source": [
        "import numpy as np\n",
        "\n",
        "# Función del método de Gauss-Seidel con iteraciones y errores\n",
        "def gauss_seidel(A, b, x_init, tol=1e-6, max_iterations=100):\n",
        "    n = len(b)\n",
        "    x = np.copy(x_init)\n",
        "    errors = []\n",
        "    iteraciones = []\n",
        "\n",
        "    print(f'{\"Iter\":>4} {\"x1\":>10} {\"x2\":>10} {\"x3\":>10} {\"Error x1\":>12} {\"Error x2\":>12} {\"Error x3\":>12}')\n",
        "\n",
        "    for k in range(max_iterations):\n",
        "        x_old = np.copy(x)\n",
        "\n",
        "        for i in range(n):\n",
        "            sum1 = sum(A[i][j] * x[j] for j in range(i))\n",
        "            sum2 = sum(A[i][j] * x_old[j] for j in range(i+1, n))\n",
        "            x[i] = (b[i] - sum1 - sum2) / A[i][i]\n",
        "\n",
        "        # Calcular el error (diferencia entre la iteración anterior y la actual)\n",
        "        error = np.abs(x - x_old)\n",
        "        errors.append(error)\n",
        "        iteraciones.append(np.copy(x))\n",
        "\n",
        "        print(f'{k+1:>4} {x[0]:>10.6f} {x[1]:>10.6f} {x[2]:>10.6f} {error[0]:>12.6f} {error[1]:>12.6f} {error[2]:>12.6f}')\n",
        "\n",
        "        # Comprobar si los errores están dentro del rango de tolerancia\n",
        "        if np.max(error) < tol:\n",
        "            print(f'\\nConvergencia alcanzada en {k+1} iteraciones.')\n",
        "            break\n",
        "\n",
        "    return x, iteraciones, errors\n",
        "\n",
        "# Definir la matriz A (porcentajes de arena, grano fino y grano grueso)\n",
        "A = np.array([[0.52, 0.20, 0.25],\n",
        "              [0.30, 0.50, 0.20],\n",
        "              [0.18, 0.30, 0.55]])\n",
        "\n",
        "# Definir el vector b (requerimientos de arena, grano fino y grano grueso)\n",
        "b = np.array([4800, 5810, 5690])\n",
        "\n",
        "# Inicialización de x (vector inicial de aproximación, puede ser ceros)\n",
        "x_init = np.zeros_like(b)\n",
        "\n",
        "# Ejecutar el método de Gauss-Seidel con seguimiento de iteraciones y errores\n",
        "x_seidel, iteraciones, errores = gauss_seidel(A, b, x_init)\n",
        "\n",
        "# Mostrar la solución final\n",
        "print(\"\\nCantidad de material a transportar desde cada cantera (en metros cúbicos) - Método de Gauss-Seidel:\")\n",
        "print(f\"Cantera 1: {x_seidel[0]:.2f} m³\")\n",
        "print(f\"Cantera 2: {x_seidel[1]:.2f} m³\")\n",
        "print(f\"Cantera 3: {x_seidel[2]:.2f} m³\")\n"
      ]
    }
  ]
}